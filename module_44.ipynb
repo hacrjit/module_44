{
 "cells": [
  {
   "cell_type": "markdown",
   "id": "367123f2-eaeb-4c21-94d9-6b91d99f0fc8",
   "metadata": {},
   "source": [
    "### <b>Question No. 1</b>"
   ]
  },
  {
   "cell_type": "markdown",
   "id": "c7d96c15-9fcb-4771-b260-e2ed2422aeb2",
   "metadata": {},
   "source": [
    "The three measures of central tendency are:\n",
    "\n",
    "1. Mean: The mean is the average of a set of numbers. It is calculated by adding up all the values and dividing by the number of values.\n",
    "\n",
    "2. Median: The median is the middle value of a dataset when the values are arranged in order. If there is an even number of values, the median is the average of the two middle values.\n",
    "\n",
    "3. Mode: The mode is the value that appears most frequently in a dataset. A dataset can have one mode, more than one mode (multimodal), or no mode (no value appears more than once)."
   ]
  },
  {
   "cell_type": "markdown",
   "id": "9adaa4ac-d4a3-4b1c-b2b1-4b61f06b7c42",
   "metadata": {},
   "source": [
    "### <b>Question No. 2"
   ]
  },
  {
   "cell_type": "markdown",
   "id": "92af245b-11fe-43d7-9e15-08a85f8ce26d",
   "metadata": {},
   "source": [
    "The mean, median, and mode are all measures of central tendency, but they each capture different aspects of a dataset. Here's how they differ and how they are used:\n",
    "\n",
    "1. Mean:\n",
    "   - The mean is the average of a dataset and is calculated by adding up all the values and dividing by the number of values.\n",
    "   - It is affected by outliers because it takes into account the magnitude of each value.\n",
    "   - It is used when the data is normally distributed or when calculating the expected value of a random variable.\n",
    "\n",
    "2. Median:\n",
    "   - The median is the middle value of a dataset when the values are arranged in order.\n",
    "   - It is not affected by outliers because it only considers the position of values.\n",
    "   - It is used when the data is skewed or when outliers are present, as it provides a better representation of the \"typical\" value.\n",
    "\n",
    "3. Mode:\n",
    "   - The mode is the value that appears most frequently in a dataset.\n",
    "   - A dataset can have one mode (unimodal), more than one mode (multimodal), or no mode (no value appears more than once).\n",
    "   - It is used to describe the most common value or values in a dataset."
   ]
  },
  {
   "cell_type": "markdown",
   "id": "64c5cf8b-55ab-4eea-97b3-87d46b83114a",
   "metadata": {},
   "source": [
    "### <b>Question No. 3"
   ]
  },
  {
   "cell_type": "code",
   "execution_count": 14,
   "id": "9d54ae82-b5dd-426b-90ba-200951e7e13c",
   "metadata": {},
   "outputs": [
    {
     "name": "stdout",
     "output_type": "stream",
     "text": [
      "Mean height: 177.01875\n",
      "Median height: 177.0\n",
      "Mode height: 178\n"
     ]
    }
   ],
   "source": [
    "import numpy as np\n",
    "\n",
    "# Given height data\n",
    "height_data = [178, 177, 176, 177, 178.2, 178, 175, 179, 180, 175, 178.9, 176.2, 177, 172.5, 178, 176.5]\n",
    "\n",
    "# Calculate mean\n",
    "mean_height = np.mean(height_data)\n",
    "\n",
    "# Calculate median\n",
    "median_height = np.median(height_data)\n",
    "\n",
    "# Calculate mode\n",
    "def calculate_mode(data):\n",
    "    data_dict = {}\n",
    "    for i in data:\n",
    "        if i in data_dict:\n",
    "            data_dict[i] += 1\n",
    "        else:\n",
    "            data_dict[i] = 1\n",
    "    mode = [k for k, v in data_dict.items() if v == max(data_dict.values())]\n",
    "    return mode[0]\n",
    "\n",
    "mode_height = calculate_mode(height_data)\n",
    "\n",
    "print(f\"Mean height: {mean_height}\")\n",
    "print(f\"Median height: {median_height}\")\n",
    "print(f\"Mode height: {mode_height}\")"
   ]
  },
  {
   "cell_type": "markdown",
   "id": "b83cf481-c324-4334-aa90-46319d1f9741",
   "metadata": {},
   "source": [
    "### <b>Question No. 4"
   ]
  },
  {
   "cell_type": "code",
   "execution_count": 15,
   "id": "1ce55334-ee27-456a-a012-0430b2237739",
   "metadata": {},
   "outputs": [
    {
     "name": "stdout",
     "output_type": "stream",
     "text": [
      "Standard deviation: 1.7885814036548633\n"
     ]
    }
   ],
   "source": [
    "import numpy as np\n",
    "\n",
    "# Given height data\n",
    "height_data = [178, 177, 176, 177, 178.2, 178, 175, 179, 180, 175, 178.9, 176.2, 177, 172.5, 178, 176.5]\n",
    "\n",
    "# Calculate standard deviation\n",
    "std_deviation = np.std(height_data)\n",
    "\n",
    "print(f\"Standard deviation: {std_deviation}\")"
   ]
  },
  {
   "cell_type": "markdown",
   "id": "db4e5aab-84d4-424c-8a66-1f95cdc99916",
   "metadata": {},
   "source": [
    "### <b>Question No. 5"
   ]
  },
  {
   "cell_type": "markdown",
   "id": "aa4419d5-e9fd-4c35-a82d-644af670f38c",
   "metadata": {},
   "source": [
    "Measures of dispersion, such as range, variance, and standard deviation, are used to describe the spread or variability of a dataset. Here's how each measure is used:\n",
    "\n",
    "1. Range: The range is the simplest measure of dispersion and is calculated as the difference between the maximum and minimum values in a dataset. It provides a rough estimate of the spread of the data but is sensitive to outliers.\n",
    "\n",
    "2. Variance: The variance measures the average squared difference of each value from the mean. It provides a more precise measure of the spread of the data compared to the range. However, it is not in the original units of the data, making it less interpretable.\n",
    "\n",
    "3. Standard Deviation: The standard deviation is the square root of the variance and is in the same units as the original data. It provides a more interpretable measure of the spread of the data than the variance.\n",
    "\n",
    "Example:\n",
    "Consider the following dataset representing the daily temperatures (in degrees Celsius) over a week: [20, 22, 19, 25, 23, 21, 18].\n",
    "\n",
    "- Range: The range is 25 - 18 = 7, indicating that the temperatures vary by 7 degrees over the week.\n",
    "- Variance: The variance is calculated as the average squared difference from the mean. For this dataset, the mean is (20+22+19+25+23+21+18)/7 = 21.14. The variance is approximately 5.14.\n",
    "- Standard Deviation: The standard deviation is the square root of the variance, which is approximately 2.27. This indicates that the temperatures typically vary by about 2.27 degrees from the mean over the week."
   ]
  },
  {
   "cell_type": "markdown",
   "id": "7a7d271c-61a0-406d-843e-5603f59a39cb",
   "metadata": {},
   "source": [
    "### <b>Question No. 6"
   ]
  },
  {
   "cell_type": "markdown",
   "id": "9c65c641-fb50-4a08-91b4-11a96e73c4b9",
   "metadata": {},
   "source": [
    "A Venn diagram is a visual representation of the relationships between different sets of data. It consists of overlapping circles, each representing a set, with the overlap representing the intersection of the sets. Venn diagrams are often used to illustrate logical relationships between sets, such as inclusion, exclusion, and overlap.\n",
    "\n",
    "In a Venn diagram:\n",
    "- Each circle represents a set of items.\n",
    "- The overlap between circles represents the intersection of the sets, showing items that are common to both sets.\n",
    "- The non-overlapping parts of the circles represent items that are unique to each set."
   ]
  },
  {
   "cell_type": "markdown",
   "id": "f9e6998f-6a05-4195-8908-d5eee564f8dc",
   "metadata": {},
   "source": [
    "### <b>Question No. 7"
   ]
  },
  {
   "cell_type": "code",
   "execution_count": 16,
   "id": "2f0a3972-c288-4c6a-88c1-3717970e5596",
   "metadata": {},
   "outputs": [
    {
     "name": "stdout",
     "output_type": "stream",
     "text": [
      "Intersection of A and B: {2, 6}\n",
      "Union of A and B: {0, 2, 3, 4, 5, 6, 7, 8, 10}\n"
     ]
    }
   ],
   "source": [
    "# Given sets\n",
    "A = {2, 3, 4, 5, 6, 7}\n",
    "B = {0, 2, 6, 8, 10}\n",
    "\n",
    "# Intersection of A and B\n",
    "intersection = A.intersection(B)\n",
    "print(f\"Intersection of A and B: {intersection}\")\n",
    "\n",
    "# Union of A and B\n",
    "union = A.union(B)\n",
    "print(f\"Union of A and B: {union}\")"
   ]
  },
  {
   "cell_type": "markdown",
   "id": "b688e988-9b69-4600-8848-79f440c03fa4",
   "metadata": {},
   "source": [
    "### <b>Question No. 8"
   ]
  },
  {
   "cell_type": "markdown",
   "id": "37f70572-4ed8-4680-b4d6-1a3d9440f697",
   "metadata": {},
   "source": [
    "Skewness in data is a measure of the asymmetry of the distribution of values in a dataset. It indicates whether the data is skewed to the left (negatively skewed), skewed to the right (positively skewed), or symmetrical (no skew).\n",
    "\n",
    "- Negatively skewed data: In a negatively skewed distribution, the tail on the left side of the distribution is longer or fatter than the tail on the right side. This means that the majority of the values are concentrated on the right side of the distribution, with fewer values on the left side.\n",
    "\n",
    "- Positively skewed data: In a positively skewed distribution, the tail on the right side of the distribution is longer or fatter than the tail on the left side. This means that the majority of the values are concentrated on the left side of the distribution, with fewer values on the right side.\n",
    "\n",
    "- Symmetrical data: In a symmetrical distribution, the data is evenly distributed around the mean, with roughly equal numbers of values on both sides of the mean. The distribution is balanced, and there is no skewness.\n",
    "\n",
    "Skewness is a useful measure because it provides information about the shape of the distribution of data, which can help in understanding the underlying patterns and characteristics of the dataset."
   ]
  },
  {
   "cell_type": "markdown",
   "id": "f4ad797c-450f-4299-9fec-de6a512549a8",
   "metadata": {},
   "source": [
    "### <b>Question No. 9"
   ]
  },
  {
   "cell_type": "markdown",
   "id": "6bcacdcd-749e-40a2-b7af-0280b7f12f53",
   "metadata": {},
   "source": [
    "Median < Mean"
   ]
  },
  {
   "cell_type": "markdown",
   "id": "d0eb4c05-9a5d-40be-8b95-e1887fe055d8",
   "metadata": {},
   "source": [
    "### <b>Question No. 10"
   ]
  },
  {
   "cell_type": "markdown",
   "id": "a8fe7795-bd28-4b56-80d0-ca6d28f3687c",
   "metadata": {},
   "source": [
    "**Covariance vs. Correlation**\n",
    "\n",
    "**Covariance:**\n",
    "- Measures the direction of the linear relationship between two variables.\n",
    "- Indicates whether two variables change in the same direction (positive covariance), opposite direction (negative covariance), or independently (zero covariance).\n",
    "- Formula: cov(X, Y) = Σ[(Xi - X̄)(Yi - Ȳ)] / n\n",
    "- Not standardized and depends on the units of the variables.\n",
    "\n",
    "**Correlation:**\n",
    "- Measures the strength and direction of the linear relationship between two variables.\n",
    "- Standardized measure, ranging from -1 to 1.\n",
    "- A correlation of 1 indicates a perfect positive linear relationship, -1 indicates a perfect negative linear relationship, and 0 indicates no linear relationship.\n",
    "- Formula: cor(X, Y) = cov(X, Y) / (σX * σY)\n",
    "- Unitless, making it easier to compare relationships between different pairs of variables.\n",
    "\n",
    "In statistical analysis, covariance and correlation are used to identify and quantify relationships between variables, assess the strength of predictive models, and make informed decisions based on data."
   ]
  },
  {
   "cell_type": "markdown",
   "id": "60ccc67d-160f-4720-b93d-14a20bc28914",
   "metadata": {},
   "source": [
    "### <b>Question No. 11"
   ]
  },
  {
   "cell_type": "markdown",
   "id": "02977ae2-b703-4091-810e-738e57eb3b72",
   "metadata": {},
   "source": [
    "**Sample Mean Formula:**\n",
    "\n",
    "The sample mean, denoted by X̄, is calculated as the sum of all values in a dataset divided by the total number of values in the dataset. The formula is:\n",
    "\n",
    "X̄ = (1/n) Σ Xi\n",
    "\n",
    "**Example Calculation:**\n",
    "\n",
    "Let's calculate the sample mean for a dataset:\n",
    "\n",
    "Dataset: [10, 15, 20, 25, 30]\n",
    "\n",
    "1. Add all the values in the dataset:\n",
    "10 + 15 + 20 + 25 + 30 = 100\n",
    "\n",
    "2. Count the total number of values in the dataset (n = 5).\n",
    "\n",
    "3. Calculate the sample mean:\n",
    "X̄ = (1/5) × 100 = 20\n",
    "\n",
    "**Result:**\n",
    "The sample mean for the dataset [10, 15, 20, 25, 30] is 20."
   ]
  },
  {
   "cell_type": "markdown",
   "id": "121cfc31-e63c-4a3f-a46e-272ab81a1be4",
   "metadata": {},
   "source": [
    "### <b>Question No. 12"
   ]
  },
  {
   "cell_type": "markdown",
   "id": "6f6a1424-9c4f-4476-8a55-927a8d0cde1a",
   "metadata": {},
   "source": [
    "For a normal distribution, the relationship between its measures of central tendency (mean, median, and mode) is as follows:\n",
    "\n",
    "1. Mean: In a normal distribution, the mean, median, and mode are equal and located at the center of the distribution. The mean is the arithmetic average of all the data points and is used as a measure of central tendency.\n",
    "\n",
    "2. Median: The median of a normal distribution is also at the center of the distribution and is equal to the mean. It is the value below and above which 50% of the data points lie.\n",
    "\n",
    "3. Mode: The mode of a normal distribution is also located at the center of the distribution and is equal to both the mean and median. In a normal distribution, there is only one mode."
   ]
  },
  {
   "cell_type": "markdown",
   "id": "a866855a-c371-4dd6-8735-4d79d136ec4f",
   "metadata": {},
   "source": [
    "### <b>Question No. 13"
   ]
  },
  {
   "cell_type": "markdown",
   "id": "209ab945-ab99-443d-805d-6d9d8b24aade",
   "metadata": {},
   "source": [
    "**Covariance vs. Correlation**\n",
    "\n",
    "**Covariance:**\n",
    "- Measures the extent to which two variables change together.\n",
    "- Indicates the direction of the linear relationship between the variables (positive, negative, or no relationship).\n",
    "- Formula: cov(X, Y) = Σ[(Xi - X̄)(Yi - Ȳ)] / n\n",
    "- Positive value indicates a positive relationship, negative value indicates a negative relationship, and a value close to zero indicates no relationship.\n",
    "\n",
    "**Correlation:**\n",
    "- Standardized measure of the linear relationship between two variables.\n",
    "- Ranges from -1 to 1; -1 indicates a perfect negative linear relationship, 1 indicates a perfect positive linear relationship, and 0 indicates no linear relationship.\n",
    "- Formula: cor(X, Y) = cov(X, Y) / (σX * σY)\n",
    "- Widely used in statistical analysis to understand the strength and direction of the relationship between variables."
   ]
  },
  {
   "cell_type": "markdown",
   "id": "aef52299-5459-40de-9651-646fcf790446",
   "metadata": {},
   "source": [
    "### <b>Question No. 14"
   ]
  },
  {
   "cell_type": "markdown",
   "id": "5c785ceb-85a8-40f6-957a-a3b284cbe5ae",
   "metadata": {},
   "source": [
    "Outliers can significantly affect measures of central tendency and dispersion. Here's how:\n",
    "\n",
    "1. **Measures of Central Tendency:**\n",
    "   - Mean: Outliers can pull the mean towards them, especially in smaller datasets. This happens because the mean is sensitive to extreme values.\n",
    "   - Median: The median is less affected by outliers because it is resistant to extreme values. It represents the middle value when the data is ordered.\n",
    "   - Mode: Outliers do not affect the mode since it is simply the most frequent value in the dataset.\n",
    "\n",
    "2. **Measures of Dispersion:**\n",
    "   - Range: Outliers can increase the range significantly, especially if they are far from the rest of the data.\n",
    "   - Variance and Standard Deviation: Outliers can inflate the variance and standard deviation, as these measures consider the distance of each data point from the mean.\n",
    "   - Interquartile Range (IQR): Outliers can affect the IQR, but to a lesser extent compared to the range, variance, and standard deviation, as it is based on the quartiles.\n",
    "\n",
    "### Example:\n",
    "\n",
    "Consider the following dataset of exam scores: [65, 70, 75, 80, 85, 90, 95, 100, 500]\n",
    "\n",
    "- Mean: Without the outlier (500), the mean is 82.5. However, with the outlier, the mean becomes 129.4, significantly higher.\n",
    "- Median: The median remains 85, unaffected by the outlier.\n",
    "- Mode: The mode remains undefined since no value appears more than once.\n",
    "- Range: Without the outlier, the range is 35. With the outlier, the range becomes 435.\n",
    "- Variance and Standard Deviation: Without the outlier, the variance and standard deviation are 306.2 and 17.5, respectively. With the outlier, they become 22296.7 and 149.3, respectively.\n",
    "- Interquartile Range (IQR): Without the outlier, the IQR is 15. With the outlier, the IQR becomes 10."
   ]
  },
  {
   "cell_type": "code",
   "execution_count": null,
   "id": "08471c13-47cc-4f92-9274-21a053eabc00",
   "metadata": {},
   "outputs": [],
   "source": []
  }
 ],
 "metadata": {
  "kernelspec": {
   "display_name": "Python 3 (ipykernel)",
   "language": "python",
   "name": "python3"
  },
  "language_info": {
   "codemirror_mode": {
    "name": "ipython",
    "version": 3
   },
   "file_extension": ".py",
   "mimetype": "text/x-python",
   "name": "python",
   "nbconvert_exporter": "python",
   "pygments_lexer": "ipython3",
   "version": "3.10.12"
  }
 },
 "nbformat": 4,
 "nbformat_minor": 5
}
